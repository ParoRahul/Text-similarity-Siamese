{
 "cells": [
  {
   "cell_type": "code",
   "execution_count": 1,
   "metadata": {},
   "outputs": [],
   "source": [
    "from model import SiameseBiLSTM\n",
    "from inputHandler import word_embed_meta_data, create_test_data\n",
    "from config import siamese_config\n",
    "import pandas as pd"
   ]
  },
  {
   "cell_type": "code",
   "execution_count": 2,
   "metadata": {},
   "outputs": [],
   "source": [
    "df = pd.read_csv('sample_data.csv')\n",
    "sentences1 = list(df['sentences1'])\n",
    "sentences2 = list(df['sentences2'])\n",
    "is_similar = list(df['is_similar'])\n",
    "del df"
   ]
  },
  {
   "cell_type": "code",
   "execution_count": 3,
   "metadata": {},
   "outputs": [
    {
     "name": "stdout",
     "output_type": "stream",
     "text": [
      "Embedding matrix shape: (390, 50)\n",
      "Null word embeddings: 1\n"
     ]
    }
   ],
   "source": [
    "tokenizer, embedding_matrix = word_embed_meta_data(sentences1 + sentences2,  siamese_config['EMBEDDING_DIM'])\n",
    "\n",
    "embedding_meta_data = {\n",
    "\t'tokenizer': tokenizer,\n",
    "\t'embedding_matrix': embedding_matrix\n",
    "}"
   ]
  },
  {
   "cell_type": "code",
   "execution_count": 4,
   "metadata": {},
   "outputs": [],
   "source": [
    "sentences_pair = [(x1, x2) for x1, x2 in zip(sentences1, sentences2)]\n",
    "del sentences1\n",
    "del sentences2"
   ]
  },
  {
   "cell_type": "code",
   "execution_count": 5,
   "metadata": {},
   "outputs": [],
   "source": [
    "class Configuration(object):\n",
    "    pass\n",
    "CONFIG = Configuration()\n",
    "\n",
    "CONFIG.embedding_dim = siamese_config['EMBEDDING_DIM']\n",
    "CONFIG.max_sequence_length = siamese_config['MAX_SEQUENCE_LENGTH']\n",
    "CONFIG.number_lstm_units = siamese_config['NUMBER_LSTM']\n",
    "CONFIG.rate_drop_lstm = siamese_config['RATE_DROP_LSTM']\n",
    "CONFIG.number_dense_units = siamese_config['NUMBER_DENSE_UNITS']\n",
    "CONFIG.activation_function = siamese_config['ACTIVATION_FUNCTION']\n",
    "CONFIG.rate_drop_dense = siamese_config['RATE_DROP_DENSE']\n",
    "CONFIG.validation_split_ratio = siamese_config['VALIDATION_SPLIT']"
   ]
  },
  {
   "cell_type": "code",
   "execution_count": 6,
   "metadata": {},
   "outputs": [],
   "source": [
    "siamese = SiameseBiLSTM(CONFIG.embedding_dim , CONFIG.max_sequence_length, CONFIG.number_lstm_units , CONFIG.number_dense_units, CONFIG.rate_drop_lstm, CONFIG.rate_drop_dense, CONFIG.activation_function, CONFIG.validation_split_ratio)"
   ]
  },
  {
   "cell_type": "code",
   "execution_count": 7,
   "metadata": {},
   "outputs": [
    {
     "name": "stdout",
     "output_type": "stream",
     "text": [
      "Epoch 1/200\n",
      " 2/34 [>.............................] - ETA: 10s - loss: 0.9118 - acc: 0.4766WARNING:tensorflow:Method (on_train_batch_end) is slow compared to the batch update (0.310040). Check your callbacks.\n",
      "WARNING:tensorflow:Method (on_train_batch_end) is slow compared to the batch update (0.103364). Check your callbacks.\n",
      "34/34 [==============================] - 3s 76ms/step - loss: 0.8822 - acc: 0.5213 - val_loss: 0.6975 - val_acc: 0.4833\n",
      "Epoch 2/200\n",
      "34/34 [==============================] - 1s 31ms/step - loss: 0.7669 - acc: 0.5721 - val_loss: 0.6622 - val_acc: 0.5500\n",
      "Epoch 3/200\n",
      "34/34 [==============================] - 1s 31ms/step - loss: 0.7513 - acc: 0.5624 - val_loss: 0.6462 - val_acc: 0.6208\n",
      "Epoch 4/200\n",
      "34/34 [==============================] - 1s 34ms/step - loss: 0.7343 - acc: 0.5735 - val_loss: 0.6442 - val_acc: 0.6167\n",
      "Epoch 5/200\n",
      "34/34 [==============================] - 1s 35ms/step - loss: 0.7059 - acc: 0.5989 - val_loss: 0.6436 - val_acc: 0.6333\n",
      "Epoch 6/200\n",
      "34/34 [==============================] - 1s 31ms/step - loss: 0.6966 - acc: 0.5813 - val_loss: 0.6351 - val_acc: 0.6458\n",
      "Epoch 7/200\n",
      "34/34 [==============================] - 1s 32ms/step - loss: 0.6838 - acc: 0.5975 - val_loss: 0.6333 - val_acc: 0.6333\n",
      "Epoch 8/200\n",
      "34/34 [==============================] - 1s 30ms/step - loss: 0.6812 - acc: 0.5984 - val_loss: 0.6371 - val_acc: 0.6375\n",
      "Epoch 9/200\n",
      "34/34 [==============================] - 1s 31ms/step - loss: 0.6553 - acc: 0.6100 - val_loss: 0.6309 - val_acc: 0.6417\n",
      "Epoch 10/200\n",
      "34/34 [==============================] - 1s 32ms/step - loss: 0.6597 - acc: 0.6095 - val_loss: 0.6295 - val_acc: 0.6500\n",
      "Epoch 11/200\n",
      "34/34 [==============================] - 1s 32ms/step - loss: 0.6602 - acc: 0.6054 - val_loss: 0.6313 - val_acc: 0.6500\n",
      "Epoch 12/200\n",
      "34/34 [==============================] - 1s 32ms/step - loss: 0.6559 - acc: 0.6165 - val_loss: 0.6342 - val_acc: 0.6583\n",
      "Epoch 13/200\n",
      "34/34 [==============================] - 1s 31ms/step - loss: 0.6624 - acc: 0.6178 - val_loss: 0.6314 - val_acc: 0.6458\n"
     ]
    }
   ],
   "source": [
    "del_path = siamese.train_model(sentences_pair, is_similar, embedding_meta_data, model_save_directory='./')"
   ]
  },
  {
   "cell_type": "code",
   "execution_count": null,
   "metadata": {},
   "outputs": [],
   "source": []
  }
 ],
 "metadata": {
  "kernelspec": {
   "display_name": "Python 3",
   "language": "python",
   "name": "python3"
  },
  "language_info": {
   "codemirror_mode": {
    "name": "ipython",
    "version": 3
   },
   "file_extension": ".py",
   "mimetype": "text/x-python",
   "name": "python",
   "nbconvert_exporter": "python",
   "pygments_lexer": "ipython3",
   "version": "3.6.5"
  }
 },
 "nbformat": 4,
 "nbformat_minor": 4
}
